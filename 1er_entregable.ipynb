{
  "nbformat": 4,
  "nbformat_minor": 0,
  "metadata": {
    "colab": {
      "provenance": [],
      "authorship_tag": "ABX9TyMPHWqg0yyWcXIUk6rH7bWG",
      "include_colab_link": true
    },
    "kernelspec": {
      "name": "python3",
      "display_name": "Python 3"
    },
    "language_info": {
      "name": "python"
    }
  },
  "cells": [
    {
      "cell_type": "markdown",
      "metadata": {
        "id": "view-in-github",
        "colab_type": "text"
      },
      "source": [
        "<a href=\"https://colab.research.google.com/github/rulogar1234/nuclio-1/blob/develop/1er_entregable.ipynb\" target=\"_parent\"><img src=\"https://colab.research.google.com/assets/colab-badge.svg\" alt=\"Open In Colab\"/></a>"
      ]
    },
    {
      "cell_type": "code",
      "execution_count": null,
      "metadata": {
        "colab": {
          "base_uri": "https://localhost:8080/"
        },
        "id": "hXS4fAcSLLWc",
        "outputId": "482ae714-0ac6-47ce-e87d-f9f503b57427"
      },
      "outputs": [
        {
          "output_type": "stream",
          "name": "stdout",
          "text": [
            "Drive already mounted at /content/drive; to attempt to forcibly remount, call drive.mount(\"/content/drive\", force_remount=True).\n"
          ]
        }
      ],
      "source": [
        "from google.colab import drive\n",
        "drive.mount('/content/drive')\n"
      ]
    },
    {
      "cell_type": "code",
      "source": [
        "#importamos librería\n",
        "import pandas as pd\n",
        "import numpy as np\n",
        "import matplotlib.pyplot as plt\n",
        "import seaborn as sns\n",
        "\n",
        "from sklearn.preprocessing import LabelEncoder,MinMaxScaler\n",
        "\n",
        "import folium\n",
        "import plotly.express as px"
      ],
      "metadata": {
        "id": "ZjcwsDL2Npvx"
      },
      "execution_count": null,
      "outputs": []
    },
    {
      "cell_type": "code",
      "source": [
        "#leemos el fichero de renfe\n",
        "df_bmw1=pd.read_csv(\"/content/drive/MyDrive/Colab Notebooks/1stEntregable/bmw_pricing_v3.csv\",sep=\",\")\n",
        "df_bmw1.head()"
      ],
      "metadata": {
        "colab": {
          "base_uri": "https://localhost:8080/",
          "height": 206
        },
        "id": "zjeaHPwKNu52",
        "outputId": "9ce31799-5211-4624-ce43-7572282b82e5"
      },
      "execution_count": null,
      "outputs": [
        {
          "output_type": "execute_result",
          "data": {
            "text/plain": [
              "  marca modelo        km  potencia fecha_registro tipo_gasolina   color  \\\n",
              "0   NaN    118  140411.0     100.0     2012-02-01        diesel   black   \n",
              "1   BMW     M4   13929.0     317.0            NaN        petrol    grey   \n",
              "2   BMW    320  183297.0     120.0     2012-04-01        diesel   white   \n",
              "3   BMW    420  128035.0     135.0            NaN        diesel     red   \n",
              "4   BMW    425   97097.0     160.0            NaN        diesel  silver   \n",
              "\n",
              "    tipo_coche volante_regulable aire_acondicionado camara_trasera  \\\n",
              "0          NaN              True               True          False   \n",
              "1  convertible              True               True          False   \n",
              "2          NaN             False              False          False   \n",
              "3  convertible              True               True          False   \n",
              "4          NaN              True               True          False   \n",
              "\n",
              "  asientos_traseros_plegables elevalunas_electrico bluetooth   gps  \\\n",
              "0                         NaN                 True       NaN  True   \n",
              "1                         NaN                False      True  True   \n",
              "2                         NaN                 True     False  True   \n",
              "3                         NaN                 True      True  True   \n",
              "4                       False                False      True  True   \n",
              "\n",
              "  alerta_lim_velocidad   precio fecha_venta  \n",
              "0                  NaN  11300.0  2018-01-01  \n",
              "1                 True  69700.0  2018-02-01  \n",
              "2                False  10200.0  2018-02-01  \n",
              "3                  NaN  25100.0  2018-02-01  \n",
              "4                 True  33400.0  2018-04-01  "
            ],
            "text/html": [
              "\n",
              "  <div id=\"df-994d37ed-96bb-4552-bd7a-75f17d00da4c\" class=\"colab-df-container\">\n",
              "    <div>\n",
              "<style scoped>\n",
              "    .dataframe tbody tr th:only-of-type {\n",
              "        vertical-align: middle;\n",
              "    }\n",
              "\n",
              "    .dataframe tbody tr th {\n",
              "        vertical-align: top;\n",
              "    }\n",
              "\n",
              "    .dataframe thead th {\n",
              "        text-align: right;\n",
              "    }\n",
              "</style>\n",
              "<table border=\"1\" class=\"dataframe\">\n",
              "  <thead>\n",
              "    <tr style=\"text-align: right;\">\n",
              "      <th></th>\n",
              "      <th>marca</th>\n",
              "      <th>modelo</th>\n",
              "      <th>km</th>\n",
              "      <th>potencia</th>\n",
              "      <th>fecha_registro</th>\n",
              "      <th>tipo_gasolina</th>\n",
              "      <th>color</th>\n",
              "      <th>tipo_coche</th>\n",
              "      <th>volante_regulable</th>\n",
              "      <th>aire_acondicionado</th>\n",
              "      <th>camara_trasera</th>\n",
              "      <th>asientos_traseros_plegables</th>\n",
              "      <th>elevalunas_electrico</th>\n",
              "      <th>bluetooth</th>\n",
              "      <th>gps</th>\n",
              "      <th>alerta_lim_velocidad</th>\n",
              "      <th>precio</th>\n",
              "      <th>fecha_venta</th>\n",
              "    </tr>\n",
              "  </thead>\n",
              "  <tbody>\n",
              "    <tr>\n",
              "      <th>0</th>\n",
              "      <td>NaN</td>\n",
              "      <td>118</td>\n",
              "      <td>140411.0</td>\n",
              "      <td>100.0</td>\n",
              "      <td>2012-02-01</td>\n",
              "      <td>diesel</td>\n",
              "      <td>black</td>\n",
              "      <td>NaN</td>\n",
              "      <td>True</td>\n",
              "      <td>True</td>\n",
              "      <td>False</td>\n",
              "      <td>NaN</td>\n",
              "      <td>True</td>\n",
              "      <td>NaN</td>\n",
              "      <td>True</td>\n",
              "      <td>NaN</td>\n",
              "      <td>11300.0</td>\n",
              "      <td>2018-01-01</td>\n",
              "    </tr>\n",
              "    <tr>\n",
              "      <th>1</th>\n",
              "      <td>BMW</td>\n",
              "      <td>M4</td>\n",
              "      <td>13929.0</td>\n",
              "      <td>317.0</td>\n",
              "      <td>NaN</td>\n",
              "      <td>petrol</td>\n",
              "      <td>grey</td>\n",
              "      <td>convertible</td>\n",
              "      <td>True</td>\n",
              "      <td>True</td>\n",
              "      <td>False</td>\n",
              "      <td>NaN</td>\n",
              "      <td>False</td>\n",
              "      <td>True</td>\n",
              "      <td>True</td>\n",
              "      <td>True</td>\n",
              "      <td>69700.0</td>\n",
              "      <td>2018-02-01</td>\n",
              "    </tr>\n",
              "    <tr>\n",
              "      <th>2</th>\n",
              "      <td>BMW</td>\n",
              "      <td>320</td>\n",
              "      <td>183297.0</td>\n",
              "      <td>120.0</td>\n",
              "      <td>2012-04-01</td>\n",
              "      <td>diesel</td>\n",
              "      <td>white</td>\n",
              "      <td>NaN</td>\n",
              "      <td>False</td>\n",
              "      <td>False</td>\n",
              "      <td>False</td>\n",
              "      <td>NaN</td>\n",
              "      <td>True</td>\n",
              "      <td>False</td>\n",
              "      <td>True</td>\n",
              "      <td>False</td>\n",
              "      <td>10200.0</td>\n",
              "      <td>2018-02-01</td>\n",
              "    </tr>\n",
              "    <tr>\n",
              "      <th>3</th>\n",
              "      <td>BMW</td>\n",
              "      <td>420</td>\n",
              "      <td>128035.0</td>\n",
              "      <td>135.0</td>\n",
              "      <td>NaN</td>\n",
              "      <td>diesel</td>\n",
              "      <td>red</td>\n",
              "      <td>convertible</td>\n",
              "      <td>True</td>\n",
              "      <td>True</td>\n",
              "      <td>False</td>\n",
              "      <td>NaN</td>\n",
              "      <td>True</td>\n",
              "      <td>True</td>\n",
              "      <td>True</td>\n",
              "      <td>NaN</td>\n",
              "      <td>25100.0</td>\n",
              "      <td>2018-02-01</td>\n",
              "    </tr>\n",
              "    <tr>\n",
              "      <th>4</th>\n",
              "      <td>BMW</td>\n",
              "      <td>425</td>\n",
              "      <td>97097.0</td>\n",
              "      <td>160.0</td>\n",
              "      <td>NaN</td>\n",
              "      <td>diesel</td>\n",
              "      <td>silver</td>\n",
              "      <td>NaN</td>\n",
              "      <td>True</td>\n",
              "      <td>True</td>\n",
              "      <td>False</td>\n",
              "      <td>False</td>\n",
              "      <td>False</td>\n",
              "      <td>True</td>\n",
              "      <td>True</td>\n",
              "      <td>True</td>\n",
              "      <td>33400.0</td>\n",
              "      <td>2018-04-01</td>\n",
              "    </tr>\n",
              "  </tbody>\n",
              "</table>\n",
              "</div>\n",
              "    <div class=\"colab-df-buttons\">\n",
              "\n",
              "  <div class=\"colab-df-container\">\n",
              "    <button class=\"colab-df-convert\" onclick=\"convertToInteractive('df-994d37ed-96bb-4552-bd7a-75f17d00da4c')\"\n",
              "            title=\"Convert this dataframe to an interactive table.\"\n",
              "            style=\"display:none;\">\n",
              "\n",
              "  <svg xmlns=\"http://www.w3.org/2000/svg\" height=\"24px\" viewBox=\"0 -960 960 960\">\n",
              "    <path d=\"M120-120v-720h720v720H120Zm60-500h600v-160H180v160Zm220 220h160v-160H400v160Zm0 220h160v-160H400v160ZM180-400h160v-160H180v160Zm440 0h160v-160H620v160ZM180-180h160v-160H180v160Zm440 0h160v-160H620v160Z\"/>\n",
              "  </svg>\n",
              "    </button>\n",
              "\n",
              "  <style>\n",
              "    .colab-df-container {\n",
              "      display:flex;\n",
              "      gap: 12px;\n",
              "    }\n",
              "\n",
              "    .colab-df-convert {\n",
              "      background-color: #E8F0FE;\n",
              "      border: none;\n",
              "      border-radius: 50%;\n",
              "      cursor: pointer;\n",
              "      display: none;\n",
              "      fill: #1967D2;\n",
              "      height: 32px;\n",
              "      padding: 0 0 0 0;\n",
              "      width: 32px;\n",
              "    }\n",
              "\n",
              "    .colab-df-convert:hover {\n",
              "      background-color: #E2EBFA;\n",
              "      box-shadow: 0px 1px 2px rgba(60, 64, 67, 0.3), 0px 1px 3px 1px rgba(60, 64, 67, 0.15);\n",
              "      fill: #174EA6;\n",
              "    }\n",
              "\n",
              "    .colab-df-buttons div {\n",
              "      margin-bottom: 4px;\n",
              "    }\n",
              "\n",
              "    [theme=dark] .colab-df-convert {\n",
              "      background-color: #3B4455;\n",
              "      fill: #D2E3FC;\n",
              "    }\n",
              "\n",
              "    [theme=dark] .colab-df-convert:hover {\n",
              "      background-color: #434B5C;\n",
              "      box-shadow: 0px 1px 3px 1px rgba(0, 0, 0, 0.15);\n",
              "      filter: drop-shadow(0px 1px 2px rgba(0, 0, 0, 0.3));\n",
              "      fill: #FFFFFF;\n",
              "    }\n",
              "  </style>\n",
              "\n",
              "    <script>\n",
              "      const buttonEl =\n",
              "        document.querySelector('#df-994d37ed-96bb-4552-bd7a-75f17d00da4c button.colab-df-convert');\n",
              "      buttonEl.style.display =\n",
              "        google.colab.kernel.accessAllowed ? 'block' : 'none';\n",
              "\n",
              "      async function convertToInteractive(key) {\n",
              "        const element = document.querySelector('#df-994d37ed-96bb-4552-bd7a-75f17d00da4c');\n",
              "        const dataTable =\n",
              "          await google.colab.kernel.invokeFunction('convertToInteractive',\n",
              "                                                    [key], {});\n",
              "        if (!dataTable) return;\n",
              "\n",
              "        const docLinkHtml = 'Like what you see? Visit the ' +\n",
              "          '<a target=\"_blank\" href=https://colab.research.google.com/notebooks/data_table.ipynb>data table notebook</a>'\n",
              "          + ' to learn more about interactive tables.';\n",
              "        element.innerHTML = '';\n",
              "        dataTable['output_type'] = 'display_data';\n",
              "        await google.colab.output.renderOutput(dataTable, element);\n",
              "        const docLink = document.createElement('div');\n",
              "        docLink.innerHTML = docLinkHtml;\n",
              "        element.appendChild(docLink);\n",
              "      }\n",
              "    </script>\n",
              "  </div>\n",
              "\n",
              "\n",
              "<div id=\"df-b8618815-8371-4c54-a0d5-b9857e9b1c6f\">\n",
              "  <button class=\"colab-df-quickchart\" onclick=\"quickchart('df-b8618815-8371-4c54-a0d5-b9857e9b1c6f')\"\n",
              "            title=\"Suggest charts\"\n",
              "            style=\"display:none;\">\n",
              "\n",
              "<svg xmlns=\"http://www.w3.org/2000/svg\" height=\"24px\"viewBox=\"0 0 24 24\"\n",
              "     width=\"24px\">\n",
              "    <g>\n",
              "        <path d=\"M19 3H5c-1.1 0-2 .9-2 2v14c0 1.1.9 2 2 2h14c1.1 0 2-.9 2-2V5c0-1.1-.9-2-2-2zM9 17H7v-7h2v7zm4 0h-2V7h2v10zm4 0h-2v-4h2v4z\"/>\n",
              "    </g>\n",
              "</svg>\n",
              "  </button>\n",
              "\n",
              "<style>\n",
              "  .colab-df-quickchart {\n",
              "      --bg-color: #E8F0FE;\n",
              "      --fill-color: #1967D2;\n",
              "      --hover-bg-color: #E2EBFA;\n",
              "      --hover-fill-color: #174EA6;\n",
              "      --disabled-fill-color: #AAA;\n",
              "      --disabled-bg-color: #DDD;\n",
              "  }\n",
              "\n",
              "  [theme=dark] .colab-df-quickchart {\n",
              "      --bg-color: #3B4455;\n",
              "      --fill-color: #D2E3FC;\n",
              "      --hover-bg-color: #434B5C;\n",
              "      --hover-fill-color: #FFFFFF;\n",
              "      --disabled-bg-color: #3B4455;\n",
              "      --disabled-fill-color: #666;\n",
              "  }\n",
              "\n",
              "  .colab-df-quickchart {\n",
              "    background-color: var(--bg-color);\n",
              "    border: none;\n",
              "    border-radius: 50%;\n",
              "    cursor: pointer;\n",
              "    display: none;\n",
              "    fill: var(--fill-color);\n",
              "    height: 32px;\n",
              "    padding: 0;\n",
              "    width: 32px;\n",
              "  }\n",
              "\n",
              "  .colab-df-quickchart:hover {\n",
              "    background-color: var(--hover-bg-color);\n",
              "    box-shadow: 0 1px 2px rgba(60, 64, 67, 0.3), 0 1px 3px 1px rgba(60, 64, 67, 0.15);\n",
              "    fill: var(--button-hover-fill-color);\n",
              "  }\n",
              "\n",
              "  .colab-df-quickchart-complete:disabled,\n",
              "  .colab-df-quickchart-complete:disabled:hover {\n",
              "    background-color: var(--disabled-bg-color);\n",
              "    fill: var(--disabled-fill-color);\n",
              "    box-shadow: none;\n",
              "  }\n",
              "\n",
              "  .colab-df-spinner {\n",
              "    border: 2px solid var(--fill-color);\n",
              "    border-color: transparent;\n",
              "    border-bottom-color: var(--fill-color);\n",
              "    animation:\n",
              "      spin 1s steps(1) infinite;\n",
              "  }\n",
              "\n",
              "  @keyframes spin {\n",
              "    0% {\n",
              "      border-color: transparent;\n",
              "      border-bottom-color: var(--fill-color);\n",
              "      border-left-color: var(--fill-color);\n",
              "    }\n",
              "    20% {\n",
              "      border-color: transparent;\n",
              "      border-left-color: var(--fill-color);\n",
              "      border-top-color: var(--fill-color);\n",
              "    }\n",
              "    30% {\n",
              "      border-color: transparent;\n",
              "      border-left-color: var(--fill-color);\n",
              "      border-top-color: var(--fill-color);\n",
              "      border-right-color: var(--fill-color);\n",
              "    }\n",
              "    40% {\n",
              "      border-color: transparent;\n",
              "      border-right-color: var(--fill-color);\n",
              "      border-top-color: var(--fill-color);\n",
              "    }\n",
              "    60% {\n",
              "      border-color: transparent;\n",
              "      border-right-color: var(--fill-color);\n",
              "    }\n",
              "    80% {\n",
              "      border-color: transparent;\n",
              "      border-right-color: var(--fill-color);\n",
              "      border-bottom-color: var(--fill-color);\n",
              "    }\n",
              "    90% {\n",
              "      border-color: transparent;\n",
              "      border-bottom-color: var(--fill-color);\n",
              "    }\n",
              "  }\n",
              "</style>\n",
              "\n",
              "  <script>\n",
              "    async function quickchart(key) {\n",
              "      const quickchartButtonEl =\n",
              "        document.querySelector('#' + key + ' button');\n",
              "      quickchartButtonEl.disabled = true;  // To prevent multiple clicks.\n",
              "      quickchartButtonEl.classList.add('colab-df-spinner');\n",
              "      try {\n",
              "        const charts = await google.colab.kernel.invokeFunction(\n",
              "            'suggestCharts', [key], {});\n",
              "      } catch (error) {\n",
              "        console.error('Error during call to suggestCharts:', error);\n",
              "      }\n",
              "      quickchartButtonEl.classList.remove('colab-df-spinner');\n",
              "      quickchartButtonEl.classList.add('colab-df-quickchart-complete');\n",
              "    }\n",
              "    (() => {\n",
              "      let quickchartButtonEl =\n",
              "        document.querySelector('#df-b8618815-8371-4c54-a0d5-b9857e9b1c6f button');\n",
              "      quickchartButtonEl.style.display =\n",
              "        google.colab.kernel.accessAllowed ? 'block' : 'none';\n",
              "    })();\n",
              "  </script>\n",
              "</div>\n",
              "    </div>\n",
              "  </div>\n"
            ]
          },
          "metadata": {},
          "execution_count": 188
        }
      ]
    },
    {
      "cell_type": "code",
      "source": [
        "#convertimos las fechas\n",
        "for i in [\"fecha_registro\",\"fecha_venta\"]:\n",
        "    df_bmw1[i]=pd.to_datetime(df_bmw1[i])"
      ],
      "metadata": {
        "id": "6y8gHkrKZyHY"
      },
      "execution_count": null,
      "outputs": []
    },
    {
      "cell_type": "code",
      "source": [
        "#borramos duplicados\n",
        "df_bmw1=df_bmw1.drop_duplicates().copy(deep=True)"
      ],
      "metadata": {
        "id": "wNGN3USDaKSk"
      },
      "execution_count": null,
      "outputs": []
    },
    {
      "cell_type": "code",
      "source": [
        "#miramos que no hayan precios negativos o 0\n",
        "df_bmw1[(df_bmw1['precio'] < 0)]"
      ],
      "metadata": {
        "colab": {
          "base_uri": "https://localhost:8080/",
          "height": 53
        },
        "id": "RqobDHzYX3hC",
        "outputId": "00f9e7dc-e5a6-4674-e91c-fdf1b718bdc3"
      },
      "execution_count": null,
      "outputs": [
        {
          "output_type": "execute_result",
          "data": {
            "text/plain": [
              "Empty DataFrame\n",
              "Columns: [marca, modelo, km, potencia, fecha_registro, tipo_gasolina, color, tipo_coche, volante_regulable, aire_acondicionado, camara_trasera, asientos_traseros_plegables, elevalunas_electrico, bluetooth, gps, alerta_lim_velocidad, precio, fecha_venta]\n",
              "Index: []"
            ],
            "text/html": [
              "\n",
              "  <div id=\"df-98bb312c-8d05-4202-bde9-555224845cba\" class=\"colab-df-container\">\n",
              "    <div>\n",
              "<style scoped>\n",
              "    .dataframe tbody tr th:only-of-type {\n",
              "        vertical-align: middle;\n",
              "    }\n",
              "\n",
              "    .dataframe tbody tr th {\n",
              "        vertical-align: top;\n",
              "    }\n",
              "\n",
              "    .dataframe thead th {\n",
              "        text-align: right;\n",
              "    }\n",
              "</style>\n",
              "<table border=\"1\" class=\"dataframe\">\n",
              "  <thead>\n",
              "    <tr style=\"text-align: right;\">\n",
              "      <th></th>\n",
              "      <th>marca</th>\n",
              "      <th>modelo</th>\n",
              "      <th>km</th>\n",
              "      <th>potencia</th>\n",
              "      <th>fecha_registro</th>\n",
              "      <th>tipo_gasolina</th>\n",
              "      <th>color</th>\n",
              "      <th>tipo_coche</th>\n",
              "      <th>volante_regulable</th>\n",
              "      <th>aire_acondicionado</th>\n",
              "      <th>camara_trasera</th>\n",
              "      <th>asientos_traseros_plegables</th>\n",
              "      <th>elevalunas_electrico</th>\n",
              "      <th>bluetooth</th>\n",
              "      <th>gps</th>\n",
              "      <th>alerta_lim_velocidad</th>\n",
              "      <th>precio</th>\n",
              "      <th>fecha_venta</th>\n",
              "    </tr>\n",
              "  </thead>\n",
              "  <tbody>\n",
              "  </tbody>\n",
              "</table>\n",
              "</div>\n",
              "    <div class=\"colab-df-buttons\">\n",
              "\n",
              "  <div class=\"colab-df-container\">\n",
              "    <button class=\"colab-df-convert\" onclick=\"convertToInteractive('df-98bb312c-8d05-4202-bde9-555224845cba')\"\n",
              "            title=\"Convert this dataframe to an interactive table.\"\n",
              "            style=\"display:none;\">\n",
              "\n",
              "  <svg xmlns=\"http://www.w3.org/2000/svg\" height=\"24px\" viewBox=\"0 -960 960 960\">\n",
              "    <path d=\"M120-120v-720h720v720H120Zm60-500h600v-160H180v160Zm220 220h160v-160H400v160Zm0 220h160v-160H400v160ZM180-400h160v-160H180v160Zm440 0h160v-160H620v160ZM180-180h160v-160H180v160Zm440 0h160v-160H620v160Z\"/>\n",
              "  </svg>\n",
              "    </button>\n",
              "\n",
              "  <style>\n",
              "    .colab-df-container {\n",
              "      display:flex;\n",
              "      gap: 12px;\n",
              "    }\n",
              "\n",
              "    .colab-df-convert {\n",
              "      background-color: #E8F0FE;\n",
              "      border: none;\n",
              "      border-radius: 50%;\n",
              "      cursor: pointer;\n",
              "      display: none;\n",
              "      fill: #1967D2;\n",
              "      height: 32px;\n",
              "      padding: 0 0 0 0;\n",
              "      width: 32px;\n",
              "    }\n",
              "\n",
              "    .colab-df-convert:hover {\n",
              "      background-color: #E2EBFA;\n",
              "      box-shadow: 0px 1px 2px rgba(60, 64, 67, 0.3), 0px 1px 3px 1px rgba(60, 64, 67, 0.15);\n",
              "      fill: #174EA6;\n",
              "    }\n",
              "\n",
              "    .colab-df-buttons div {\n",
              "      margin-bottom: 4px;\n",
              "    }\n",
              "\n",
              "    [theme=dark] .colab-df-convert {\n",
              "      background-color: #3B4455;\n",
              "      fill: #D2E3FC;\n",
              "    }\n",
              "\n",
              "    [theme=dark] .colab-df-convert:hover {\n",
              "      background-color: #434B5C;\n",
              "      box-shadow: 0px 1px 3px 1px rgba(0, 0, 0, 0.15);\n",
              "      filter: drop-shadow(0px 1px 2px rgba(0, 0, 0, 0.3));\n",
              "      fill: #FFFFFF;\n",
              "    }\n",
              "  </style>\n",
              "\n",
              "    <script>\n",
              "      const buttonEl =\n",
              "        document.querySelector('#df-98bb312c-8d05-4202-bde9-555224845cba button.colab-df-convert');\n",
              "      buttonEl.style.display =\n",
              "        google.colab.kernel.accessAllowed ? 'block' : 'none';\n",
              "\n",
              "      async function convertToInteractive(key) {\n",
              "        const element = document.querySelector('#df-98bb312c-8d05-4202-bde9-555224845cba');\n",
              "        const dataTable =\n",
              "          await google.colab.kernel.invokeFunction('convertToInteractive',\n",
              "                                                    [key], {});\n",
              "        if (!dataTable) return;\n",
              "\n",
              "        const docLinkHtml = 'Like what you see? Visit the ' +\n",
              "          '<a target=\"_blank\" href=https://colab.research.google.com/notebooks/data_table.ipynb>data table notebook</a>'\n",
              "          + ' to learn more about interactive tables.';\n",
              "        element.innerHTML = '';\n",
              "        dataTable['output_type'] = 'display_data';\n",
              "        await google.colab.output.renderOutput(dataTable, element);\n",
              "        const docLink = document.createElement('div');\n",
              "        docLink.innerHTML = docLinkHtml;\n",
              "        element.appendChild(docLink);\n",
              "      }\n",
              "    </script>\n",
              "  </div>\n",
              "\n",
              "    </div>\n",
              "  </div>\n"
            ]
          },
          "metadata": {},
          "execution_count": 191
        }
      ]
    },
    {
      "cell_type": "code",
      "source": [
        "df_bmw1.info()"
      ],
      "metadata": {
        "colab": {
          "base_uri": "https://localhost:8080/"
        },
        "id": "1F-H7ahmWFiR",
        "outputId": "260d5173-3513-40fb-fd34-762cacfeab1a"
      },
      "execution_count": null,
      "outputs": [
        {
          "output_type": "stream",
          "name": "stdout",
          "text": [
            "<class 'pandas.core.frame.DataFrame'>\n",
            "Int64Index: 4843 entries, 0 to 4842\n",
            "Data columns (total 18 columns):\n",
            " #   Column                       Non-Null Count  Dtype         \n",
            "---  ------                       --------------  -----         \n",
            " 0   marca                        3873 non-null   object        \n",
            " 1   modelo                       4840 non-null   object        \n",
            " 2   km                           4841 non-null   float64       \n",
            " 3   potencia                     4842 non-null   float64       \n",
            " 4   fecha_registro               2420 non-null   datetime64[ns]\n",
            " 5   tipo_gasolina                4838 non-null   object        \n",
            " 6   color                        4398 non-null   object        \n",
            " 7   tipo_coche                   3383 non-null   object        \n",
            " 8   volante_regulable            4839 non-null   object        \n",
            " 9   aire_acondicionado           4357 non-null   object        \n",
            " 10  camara_trasera               4841 non-null   object        \n",
            " 11  asientos_traseros_plegables  1452 non-null   object        \n",
            " 12  elevalunas_electrico         4841 non-null   object        \n",
            " 13  bluetooth                    4115 non-null   object        \n",
            " 14  gps                          4843 non-null   bool          \n",
            " 15  alerta_lim_velocidad         4115 non-null   object        \n",
            " 16  precio                       4837 non-null   float64       \n",
            " 17  fecha_venta                  4842 non-null   datetime64[ns]\n",
            "dtypes: bool(1), datetime64[ns](2), float64(3), object(12)\n",
            "memory usage: 685.8+ KB\n"
          ]
        }
      ]
    },
    {
      "cell_type": "code",
      "source": [
        "#miramos los valores que tenemos en la marca\n",
        "df_bmw1['marca'].unique()"
      ],
      "metadata": {
        "colab": {
          "base_uri": "https://localhost:8080/"
        },
        "id": "j3dPIA0fP92A",
        "outputId": "679c6455-e009-40d5-e09e-e81644ff13e3"
      },
      "execution_count": null,
      "outputs": [
        {
          "output_type": "execute_result",
          "data": {
            "text/plain": [
              "array([nan, 'BMW'], dtype=object)"
            ]
          },
          "metadata": {},
          "execution_count": 193
        }
      ]
    },
    {
      "cell_type": "code",
      "source": [
        "#como la lista es de BMW, todos los coches suponemos que son BMW, borramos la columna\n",
        "del df_bmw1['marca']"
      ],
      "metadata": {
        "id": "xT0ZdUvCQZC1"
      },
      "execution_count": null,
      "outputs": []
    },
    {
      "cell_type": "code",
      "source": [
        "#miramos cuantos registros tiene nuestro dataset\n",
        "len(df_bmw1)"
      ],
      "metadata": {
        "colab": {
          "base_uri": "https://localhost:8080/"
        },
        "id": "JnFW_oNJQ5wN",
        "outputId": "4a89700c-b6a3-4178-9aad-917f164de70f"
      },
      "execution_count": null,
      "outputs": [
        {
          "output_type": "execute_result",
          "data": {
            "text/plain": [
              "4843"
            ]
          },
          "metadata": {},
          "execution_count": 196
        }
      ]
    },
    {
      "cell_type": "code",
      "source": [
        "#miramos nulos\n",
        "df_bmw1.isnull().sum()"
      ],
      "metadata": {
        "colab": {
          "base_uri": "https://localhost:8080/"
        },
        "id": "5sxsjMagWNkL",
        "outputId": "b781275c-d6ef-429b-f8b0-99a5772ddf87"
      },
      "execution_count": null,
      "outputs": [
        {
          "output_type": "execute_result",
          "data": {
            "text/plain": [
              "modelo                            3\n",
              "km                                2\n",
              "potencia                          1\n",
              "fecha_registro                 2423\n",
              "tipo_gasolina                     5\n",
              "color                           445\n",
              "tipo_coche                     1460\n",
              "volante_regulable                 4\n",
              "aire_acondicionado              486\n",
              "camara_trasera                    2\n",
              "asientos_traseros_plegables    3391\n",
              "elevalunas_electrico              2\n",
              "bluetooth                       728\n",
              "gps                               0\n",
              "alerta_lim_velocidad            728\n",
              "precio                            6\n",
              "fecha_venta                       1\n",
              "dtype: int64"
            ]
          },
          "metadata": {},
          "execution_count": 197
        }
      ]
    },
    {
      "cell_type": "code",
      "source": [
        "# al tener 4843 consideramos que se pueden borrar los registros que tengan menos de un 5% (24 registros) a nulo\n",
        "columnas=df_bmw1.columns.tolist()\n",
        "columnas_nulas=[]\n",
        "for columna in columnas:\n",
        "  if df_bmw1[columna].isnull().sum() < 25:\n",
        "    columnas_nulas.append(columna)\n",
        "    df_bmw1.dropna(subset=[columna], inplace=True)\n",
        "columnas_nulas"
      ],
      "metadata": {
        "colab": {
          "base_uri": "https://localhost:8080/"
        },
        "id": "PeH6ofCQReim",
        "outputId": "39ed1698-2d70-41f1-8044-c85917a4f451"
      },
      "execution_count": null,
      "outputs": [
        {
          "output_type": "execute_result",
          "data": {
            "text/plain": [
              "['modelo',\n",
              " 'km',\n",
              " 'potencia',\n",
              " 'tipo_gasolina',\n",
              " 'volante_regulable',\n",
              " 'camara_trasera',\n",
              " 'elevalunas_electrico',\n",
              " 'gps',\n",
              " 'precio',\n",
              " 'fecha_venta']"
            ]
          },
          "metadata": {},
          "execution_count": 198
        }
      ]
    },
    {
      "cell_type": "code",
      "source": [
        "df_bmw1.isnull().sum()"
      ],
      "metadata": {
        "colab": {
          "base_uri": "https://localhost:8080/"
        },
        "id": "P9o59XTzTVW5",
        "outputId": "8ad860be-9201-457d-9289-22c5003bfc3c"
      },
      "execution_count": null,
      "outputs": [
        {
          "output_type": "execute_result",
          "data": {
            "text/plain": [
              "modelo                            0\n",
              "km                                0\n",
              "potencia                          0\n",
              "fecha_registro                 2409\n",
              "tipo_gasolina                     0\n",
              "color                           442\n",
              "tipo_coche                     1449\n",
              "volante_regulable                 0\n",
              "aire_acondicionado              482\n",
              "camara_trasera                    0\n",
              "asientos_traseros_plegables    3373\n",
              "elevalunas_electrico              0\n",
              "bluetooth                       725\n",
              "gps                               0\n",
              "alerta_lim_velocidad            725\n",
              "precio                            0\n",
              "fecha_venta                       0\n",
              "dtype: int64"
            ]
          },
          "metadata": {},
          "execution_count": 199
        }
      ]
    },
    {
      "cell_type": "code",
      "source": [
        "#Verificamos outlayers de precio\n",
        "df_bmw1.hist(\"precio\")"
      ],
      "metadata": {
        "colab": {
          "base_uri": "https://localhost:8080/",
          "height": 470
        },
        "id": "jPCQjDUvsDah",
        "outputId": "ecc18cbb-4708-4e72-d01d-9be464a17a02"
      },
      "execution_count": null,
      "outputs": [
        {
          "output_type": "execute_result",
          "data": {
            "text/plain": [
              "array([[<Axes: title={'center': 'precio'}>]], dtype=object)"
            ]
          },
          "metadata": {},
          "execution_count": 200
        },
        {
          "output_type": "display_data",
          "data": {
            "text/plain": [
              "<Figure size 640x480 with 1 Axes>"
            ],
            "image/png": "[encoded data removed]"
          },
          "metadata": {}
        }
      ]
    },
    {
      "cell_type": "code",
      "source": [
        "#miramos cuantos coches hay más altos de 70000 de precio\n",
        "df_bmw1[df_bmw1['precio'] > 70000]"
      ],
      "metadata": {
        "colab": {
          "base_uri": "https://localhost:8080/",
          "height": 255
        },
        "id": "Rwv3i4WYsQrV",
        "outputId": "454b9a3c-1906-42d5-c456-780a1aa27442"
      },
      "execution_count": null,
      "outputs": [
        {
          "output_type": "execute_result",
          "data": {
            "text/plain": [
              "              modelo        km  potencia fecha_registro  tipo_gasolina  \\\n",
              "90                i8   12402.0     170.0            NaT  hybrid_petrol   \n",
              "2938  640 Gran Coupé     -64.0     230.0            NaT         diesel   \n",
              "4146            X6 M    2970.0     423.0     2016-04-01         petrol   \n",
              "4684              X4  103222.0     140.0     2014-08-01         diesel   \n",
              "4731            X5 M    4530.0     230.0     2016-07-01         diesel   \n",
              "4753              X3   72515.0     135.0     2013-03-01         diesel   \n",
              "\n",
              "       color tipo_coche volante_regulable aire_acondicionado camara_trasera  \\\n",
              "90      grey      coupe              True               True          False   \n",
              "2938   black      sedan              True               True          False   \n",
              "4146     red        suv              True                NaN           True   \n",
              "4684    grey        suv              True               True          False   \n",
              "4731  silver        suv              True                NaN          False   \n",
              "4753    blue        suv             False              False           True   \n",
              "\n",
              "     asientos_traseros_plegables elevalunas_electrico bluetooth    gps  \\\n",
              "90                         False                False     False  False   \n",
              "2938                         NaN                False     False   True   \n",
              "4146                       False                False     False   True   \n",
              "4684                         NaN                 True     False   True   \n",
              "4731                         NaN                False     False  False   \n",
              "4753                         NaN                False       NaN  False   \n",
              "\n",
              "     alerta_lim_velocidad    precio fecha_venta  \n",
              "90                   True   95200.0  2018-04-01  \n",
              "2938                 True   75000.0  2018-04-01  \n",
              "4146                 True   82400.0  2018-04-01  \n",
              "4684                 True  142800.0  2018-08-01  \n",
              "4731                 True   73100.0  2018-08-01  \n",
              "4753                 True  178500.0  2018-08-01  "
            ],
            "text/html": [
              "\n",
              "  <div id=\"df-e15a597d-8c82-4f5a-b401-0a6702b5d57b\" class=\"colab-df-container\">\n",
              "    <div>\n",
              "<style scoped>\n",
              "    .dataframe tbody tr th:only-of-type {\n",
              "        vertical-align: middle;\n",
              "    }\n",
              "\n",
              "    .dataframe tbody tr th {\n",
              "        vertical-align: top;\n",
              "    }\n",
              "\n",
              "    .dataframe thead th {\n",
              "        text-align: right;\n",
              "    }\n",
              "</style>\n",
              "<table border=\"1\" class=\"dataframe\">\n",
              "  <thead>\n",
              "    <tr style=\"text-align: right;\">\n",
              "      <th></th>\n",
              "      <th>modelo</th>\n",
              "      <th>km</th>\n",
              "      <th>potencia</th>\n",
              "      <th>fecha_registro</th>\n",
              "      <th>tipo_gasolina</th>\n",
              "      <th>color</th>\n",
              "      <th>tipo_coche</th>\n",
              "      <th>volante_regulable</th>\n",
              "      <th>aire_acondicionado</th>\n",
              "      <th>camara_trasera</th>\n",
              "      <th>asientos_traseros_plegables</th>\n",
              "      <th>elevalunas_electrico</th>\n",
              "      <th>bluetooth</th>\n",
              "      <th>gps</th>\n",
              "      <th>alerta_lim_velocidad</th>\n",
              "      <th>precio</th>\n",
              "      <th>fecha_venta</th>\n",
              "    </tr>\n",
              "  </thead>\n",
              "  <tbody>\n",
              "    <tr>\n",
              "      <th>90</th>\n",
              "      <td>i8</td>\n",
              "      <td>12402.0</td>\n",
              "      <td>170.0</td>\n",
              "      <td>NaT</td>\n",
              "      <td>hybrid_petrol</td>\n",
              "      <td>grey</td>\n",
              "      <td>coupe</td>\n",
              "      <td>True</td>\n",
              "      <td>True</td>\n",
              "      <td>False</td>\n",
              "      <td>False</td>\n",
              "      <td>False</td>\n",
              "      <td>False</td>\n",
              "      <td>False</td>\n",
              "      <td>True</td>\n",
              "      <td>95200.0</td>\n",
              "      <td>2018-04-01</td>\n",
              "    </tr>\n",
              "    <tr>\n",
              "      <th>2938</th>\n",
              "      <td>640 Gran Coupé</td>\n",
              "      <td>-64.0</td>\n",
              "      <td>230.0</td>\n",
              "      <td>NaT</td>\n",
              "      <td>diesel</td>\n",
              "      <td>black</td>\n",
              "      <td>sedan</td>\n",
              "      <td>True</td>\n",
              "      <td>True</td>\n",
              "      <td>False</td>\n",
              "      <td>NaN</td>\n",
              "      <td>False</td>\n",
              "      <td>False</td>\n",
              "      <td>True</td>\n",
              "      <td>True</td>\n",
              "      <td>75000.0</td>\n",
              "      <td>2018-04-01</td>\n",
              "    </tr>\n",
              "    <tr>\n",
              "      <th>4146</th>\n",
              "      <td>X6 M</td>\n",
              "      <td>2970.0</td>\n",
              "      <td>423.0</td>\n",
              "      <td>2016-04-01</td>\n",
              "      <td>petrol</td>\n",
              "      <td>red</td>\n",
              "      <td>suv</td>\n",
              "      <td>True</td>\n",
              "      <td>NaN</td>\n",
              "      <td>True</td>\n",
              "      <td>False</td>\n",
              "      <td>False</td>\n",
              "      <td>False</td>\n",
              "      <td>True</td>\n",
              "      <td>True</td>\n",
              "      <td>82400.0</td>\n",
              "      <td>2018-04-01</td>\n",
              "    </tr>\n",
              "    <tr>\n",
              "      <th>4684</th>\n",
              "      <td>X4</td>\n",
              "      <td>103222.0</td>\n",
              "      <td>140.0</td>\n",
              "      <td>2014-08-01</td>\n",
              "      <td>diesel</td>\n",
              "      <td>grey</td>\n",
              "      <td>suv</td>\n",
              "      <td>True</td>\n",
              "      <td>True</td>\n",
              "      <td>False</td>\n",
              "      <td>NaN</td>\n",
              "      <td>True</td>\n",
              "      <td>False</td>\n",
              "      <td>True</td>\n",
              "      <td>True</td>\n",
              "      <td>142800.0</td>\n",
              "      <td>2018-08-01</td>\n",
              "    </tr>\n",
              "    <tr>\n",
              "      <th>4731</th>\n",
              "      <td>X5 M</td>\n",
              "      <td>4530.0</td>\n",
              "      <td>230.0</td>\n",
              "      <td>2016-07-01</td>\n",
              "      <td>diesel</td>\n",
              "      <td>silver</td>\n",
              "      <td>suv</td>\n",
              "      <td>True</td>\n",
              "      <td>NaN</td>\n",
              "      <td>False</td>\n",
              "      <td>NaN</td>\n",
              "      <td>False</td>\n",
              "      <td>False</td>\n",
              "      <td>False</td>\n",
              "      <td>True</td>\n",
              "      <td>73100.0</td>\n",
              "      <td>2018-08-01</td>\n",
              "    </tr>\n",
              "    <tr>\n",
              "      <th>4753</th>\n",
              "      <td>X3</td>\n",
              "      <td>72515.0</td>\n",
              "      <td>135.0</td>\n",
              "      <td>2013-03-01</td>\n",
              "      <td>diesel</td>\n",
              "      <td>blue</td>\n",
              "      <td>suv</td>\n",
              "      <td>False</td>\n",
              "      <td>False</td>\n",
              "      <td>True</td>\n",
              "      <td>NaN</td>\n",
              "      <td>False</td>\n",
              "      <td>NaN</td>\n",
              "      <td>False</td>\n",
              "      <td>True</td>\n",
              "      <td>178500.0</td>\n",
              "      <td>2018-08-01</td>\n",
              "    </tr>\n",
              "  </tbody>\n",
              "</table>\n",
              "</div>\n",
              "    <div class=\"colab-df-buttons\">\n",
              "\n",
              "  <div class=\"colab-df-container\">\n",
              "    <button class=\"colab-df-convert\" onclick=\"convertToInteractive('df-e15a597d-8c82-4f5a-b401-0a6702b5d57b')\"\n",
              "            title=\"Convert this dataframe to an interactive table.\"\n",
              "            style=\"display:none;\">\n",
              "\n",
              "  <svg xmlns=\"http://www.w3.org/2000/svg\" height=\"24px\" viewBox=\"0 -960 960 960\">\n",
              "    <path d=\"M120-120v-720h720v720H120Zm60-500h600v-160H180v160Zm220 220h160v-160H400v160Zm0 220h160v-160H400v160ZM180-400h160v-160H180v160Zm440 0h160v-160H620v160ZM180-180h160v-160H180v160Zm440 0h160v-160H620v160Z\"/>\n",
              "  </svg>\n",
              "    </button>\n",
              "\n",
              "  <style>\n",
              "    .colab-df-container {\n",
              "      display:flex;\n",
              "      gap: 12px;\n",
              "    }\n",
              "\n",
              "    .colab-df-convert {\n",
              "      background-color: #E8F0FE;\n",
              "      border: none;\n",
              "      border-radius: 50%;\n",
              "      cursor: pointer;\n",
              "      display: none;\n",
              "      fill: #1967D2;\n",
              "      height: 32px;\n",
              "      padding: 0 0 0 0;\n",
              "      width: 32px;\n",
              "    }\n",
              "\n",
              "    .colab-df-convert:hover {\n",
              "      background-color: #E2EBFA;\n",
              "      box-shadow: 0px 1px 2px rgba(60, 64, 67, 0.3), 0px 1px 3px 1px rgba(60, 64, 67, 0.15);\n",
              "      fill: #174EA6;\n",
              "    }\n",
              "\n",
              "    .colab-df-buttons div {\n",
              "      margin-bottom: 4px;\n",
              "    }\n",
              "\n",
              "    [theme=dark] .colab-df-convert {\n",
              "      background-color: #3B4455;\n",
              "      fill: #D2E3FC;\n",
              "    }\n",
              "\n",
              "    [theme=dark] .colab-df-convert:hover {\n",
              "      background-color: #434B5C;\n",
              "      box-shadow: 0px 1px 3px 1px rgba(0, 0, 0, 0.15);\n",
              "      filter: drop-shadow(0px 1px 2px rgba(0, 0, 0, 0.3));\n",
              "      fill: #FFFFFF;\n",
              "    }\n",
              "  </style>\n",
              "\n",
              "    <script>\n",
              "      const buttonEl =\n",
              "        document.querySelector('#df-e15a597d-8c82-4f5a-b401-0a6702b5d57b button.colab-df-convert');\n",
              "      buttonEl.style.display =\n",
              "        google.colab.kernel.accessAllowed ? 'block' : 'none';\n",
              "\n",
              "      async function convertToInteractive(key) {\n",
              "        const element = document.querySelector('#df-e15a597d-8c82-4f5a-b401-0a6702b5d57b');\n",
              "        const dataTable =\n",
              "          await google.colab.kernel.invokeFunction('convertToInteractive',\n",
              "                                                    [key], {});\n",
              "        if (!dataTable) return;\n",
              "\n",
              "        const docLinkHtml = 'Like what you see? Visit the ' +\n",
              "          '<a target=\"_blank\" href=https://colab.research.google.com/notebooks/data_table.ipynb>data table notebook</a>'\n",
              "          + ' to learn more about interactive tables.';\n",
              "        element.innerHTML = '';\n",
              "        dataTable['output_type'] = 'display_data';\n",
              "        await google.colab.output.renderOutput(dataTable, element);\n",
              "        const docLink = document.createElement('div');\n",
              "        docLink.innerHTML = docLinkHtml;\n",
              "        element.appendChild(docLink);\n",
              "      }\n",
              "    </script>\n",
              "  </div>\n",
              "\n",
              "\n",
              "<div id=\"df-e47ee216-7d5c-4630-ab6d-dd324a855325\">\n",
              "  <button class=\"colab-df-quickchart\" onclick=\"quickchart('df-e47ee216-7d5c-4630-ab6d-dd324a855325')\"\n",
              "            title=\"Suggest charts\"\n",
              "            style=\"display:none;\">\n",
              "\n",
              "<svg xmlns=\"http://www.w3.org/2000/svg\" height=\"24px\"viewBox=\"0 0 24 24\"\n",
              "     width=\"24px\">\n",
              "    <g>\n",
              "        <path d=\"M19 3H5c-1.1 0-2 .9-2 2v14c0 1.1.9 2 2 2h14c1.1 0 2-.9 2-2V5c0-1.1-.9-2-2-2zM9 17H7v-7h2v7zm4 0h-2V7h2v10zm4 0h-2v-4h2v4z\"/>\n",
              "    </g>\n",
              "</svg>\n",
              "  </button>\n",
              "\n",
              "<style>\n",
              "  .colab-df-quickchart {\n",
              "      --bg-color: #E8F0FE;\n",
              "      --fill-color: #1967D2;\n",
              "      --hover-bg-color: #E2EBFA;\n",
              "      --hover-fill-color: #174EA6;\n",
              "      --disabled-fill-color: #AAA;\n",
              "      --disabled-bg-color: #DDD;\n",
              "  }\n",
              "\n",
              "  [theme=dark] .colab-df-quickchart {\n",
              "      --bg-color: #3B4455;\n",
              "      --fill-color: #D2E3FC;\n",
              "      --hover-bg-color: #434B5C;\n",
              "      --hover-fill-color: #FFFFFF;\n",
              "      --disabled-bg-color: #3B4455;\n",
              "      --disabled-fill-color: #666;\n",
              "  }\n",
              "\n",
              "  .colab-df-quickchart {\n",
              "    background-color: var(--bg-color);\n",
              "    border: none;\n",
              "    border-radius: 50%;\n",
              "    cursor: pointer;\n",
              "    display: none;\n",
              "    fill: var(--fill-color);\n",
              "    height: 32px;\n",
              "    padding: 0;\n",
              "    width: 32px;\n",
              "  }\n",
              "\n",
              "  .colab-df-quickchart:hover {\n",
              "    background-color: var(--hover-bg-color);\n",
              "    box-shadow: 0 1px 2px rgba(60, 64, 67, 0.3), 0 1px 3px 1px rgba(60, 64, 67, 0.15);\n",
              "    fill: var(--button-hover-fill-color);\n",
              "  }\n",
              "\n",
              "  .colab-df-quickchart-complete:disabled,\n",
              "  .colab-df-quickchart-complete:disabled:hover {\n",
              "    background-color: var(--disabled-bg-color);\n",
              "    fill: var(--disabled-fill-color);\n",
              "    box-shadow: none;\n",
              "  }\n",
              "\n",
              "  .colab-df-spinner {\n",
              "    border: 2px solid var(--fill-color);\n",
              "    border-color: transparent;\n",
              "    border-bottom-color: var(--fill-color);\n",
              "    animation:\n",
              "      spin 1s steps(1) infinite;\n",
              "  }\n",
              "\n",
              "  @keyframes spin {\n",
              "    0% {\n",
              "      border-color: transparent;\n",
              "      border-bottom-color: var(--fill-color);\n",
              "      border-left-color: var(--fill-color);\n",
              "    }\n",
              "    20% {\n",
              "      border-color: transparent;\n",
              "      border-left-color: var(--fill-color);\n",
              "      border-top-color: var(--fill-color);\n",
              "    }\n",
              "    30% {\n",
              "      border-color: transparent;\n",
              "      border-left-color: var(--fill-color);\n",
              "      border-top-color: var(--fill-color);\n",
              "      border-right-color: var(--fill-color);\n",
              "    }\n",
              "    40% {\n",
              "      border-color: transparent;\n",
              "      border-right-color: var(--fill-color);\n",
              "      border-top-color: var(--fill-color);\n",
              "    }\n",
              "    60% {\n",
              "      border-color: transparent;\n",
              "      border-right-color: var(--fill-color);\n",
              "    }\n",
              "    80% {\n",
              "      border-color: transparent;\n",
              "      border-right-color: var(--fill-color);\n",
              "      border-bottom-color: var(--fill-color);\n",
              "    }\n",
              "    90% {\n",
              "      border-color: transparent;\n",
              "      border-bottom-color: var(--fill-color);\n",
              "    }\n",
              "  }\n",
              "</style>\n",
              "\n",
              "  <script>\n",
              "    async function quickchart(key) {\n",
              "      const quickchartButtonEl =\n",
              "        document.querySelector('#' + key + ' button');\n",
              "      quickchartButtonEl.disabled = true;  // To prevent multiple clicks.\n",
              "      quickchartButtonEl.classList.add('colab-df-spinner');\n",
              "      try {\n",
              "        const charts = await google.colab.kernel.invokeFunction(\n",
              "            'suggestCharts', [key], {});\n",
              "      } catch (error) {\n",
              "        console.error('Error during call to suggestCharts:', error);\n",
              "      }\n",
              "      quickchartButtonEl.classList.remove('colab-df-spinner');\n",
              "      quickchartButtonEl.classList.add('colab-df-quickchart-complete');\n",
              "    }\n",
              "    (() => {\n",
              "      let quickchartButtonEl =\n",
              "        document.querySelector('#df-e47ee216-7d5c-4630-ab6d-dd324a855325 button');\n",
              "      quickchartButtonEl.style.display =\n",
              "        google.colab.kernel.accessAllowed ? 'block' : 'none';\n",
              "    })();\n",
              "  </script>\n",
              "</div>\n",
              "    </div>\n",
              "  </div>\n"
            ]
          },
          "metadata": {},
          "execution_count": 202
        }
      ]
    },
    {
      "cell_type": "code",
      "source": [
        "#los borramos\n",
        "df_bmw1=df_bmw1[df_bmw1['precio'] <= 70000]"
      ],
      "metadata": {
        "id": "QY7PeszAsp-n"
      },
      "execution_count": null,
      "outputs": []
    },
    {
      "cell_type": "code",
      "source": [
        "#Verificamos outlayers de precio, quedando bastante normal\n",
        "df_bmw1.hist(\"precio\")"
      ],
      "metadata": {
        "colab": {
          "base_uri": "https://localhost:8080/",
          "height": 470
        },
        "id": "Pk8Bhdh0tO2o",
        "outputId": "6a066365-d4bb-467f-b294-4592cfda8aa2"
      },
      "execution_count": null,
      "outputs": [
        {
          "output_type": "execute_result",
          "data": {
            "text/plain": [
              "array([[<Axes: title={'center': 'precio'}>]], dtype=object)"
            ]
          },
          "metadata": {},
          "execution_count": 204
        },
        {
          "output_type": "display_data",
          "data": {
            "text/plain": [
              "<Figure size 640x480 with 1 Axes>"
            ],
            "image/png": "[encoded data removed]"
          },
          "metadata": {}
        }
      ]
    },
    {
      "cell_type": "markdown",
      "source": [
        "# ANALISIS **CATEGORICAS**"
      ],
      "metadata": {
        "id": "gWPDSz3Sbqsl"
      }
    },
    {
      "cell_type": "code",
      "source": [
        "#copiamos dataframe:\n",
        "df_bmw2 = df_bmw1.copy()\n"
      ],
      "metadata": {
        "id": "s34SoGQNbc-8"
      },
      "execution_count": null,
      "outputs": []
    },
    {
      "cell_type": "code",
      "source": [
        "#Borramos la fecha de registro ya que consideramos que no va a ser importante para el cálculo del precio\n",
        "del df_bmw2['fecha_registro']"
      ],
      "metadata": {
        "id": "2yAWXrQhb5bu"
      },
      "execution_count": null,
      "outputs": []
    },
    {
      "cell_type": "code",
      "source": [
        "columnas=df_bmw2.columns.tolist()\n",
        "columnas_nulas=[]\n",
        "for columna in columnas:\n",
        "  if df_bmw2[columna].isnull().sum() > 0:\n",
        "    columnas_nulas.append(columna)\n",
        "    print(df_bmw2[columna].unique())\n",
        "columnas_nulas"
      ],
      "metadata": {
        "colab": {
          "base_uri": "https://localhost:8080/"
        },
        "id": "Cg5QLvs_Wh_W",
        "outputId": "43f1721a-c11c-47ad-d872-b07b99602a19"
      },
      "execution_count": null,
      "outputs": [
        {
          "output_type": "stream",
          "name": "stdout",
          "text": [
            "['black' 'grey' 'white' 'red' 'silver' 'blue' nan 'orange' 'beige' 'brown'\n",
            " 'green']\n",
            "[nan 'convertible' 'coupe' 'estate' 'hatchback' 'sedan' 'subcompact' 'suv'\n",
            " 'van']\n",
            "[True False nan]\n",
            "[nan False True]\n",
            "[nan True False]\n",
            "[nan True False]\n"
          ]
        },
        {
          "output_type": "execute_result",
          "data": {
            "text/plain": [
              "['color',\n",
              " 'tipo_coche',\n",
              " 'aire_acondicionado',\n",
              " 'asientos_traseros_plegables',\n",
              " 'bluetooth',\n",
              " 'alerta_lim_velocidad']"
            ]
          },
          "metadata": {},
          "execution_count": 216
        }
      ]
    },
    {
      "cell_type": "code",
      "source": [
        "#suponemos que los precios no dependen del color para poner un desconocido en color\n",
        "# Crear un gráfico de barras\n",
        "sns.histplot(data=df_bmw2, x='precio', hue='color',  bins=30, multiple = \"stack\")\n",
        "plt.xlabel('Precio')\n",
        "plt.ylabel('Frecuencia')\n",
        "plt.title('Gráfico de Barras con Variable Categórica')\n",
        "plt.show()"
      ],
      "metadata": {
        "colab": {
          "base_uri": "https://localhost:8080/",
          "height": 472
        },
        "id": "AKrN_f6ErypC",
        "outputId": "ce36b00d-7c92-4ee4-d1db-b7dd418e8a53"
      },
      "execution_count": null,
      "outputs": [
        {
          "output_type": "display_data",
          "data": {
            "text/plain": [
              "<Figure size 640x480 with 1 Axes>"
            ],
            "image/png": "[encoded data removed]"
          },
          "metadata": {}
        }
      ]
    },
    {
      "cell_type": "code",
      "source": [
        "sns.catplot(x = \"color\", y=\"precio\", data= df_bmw2)"
      ],
      "metadata": {
        "colab": {
          "base_uri": "https://localhost:8080/",
          "height": 524
        },
        "id": "ehD5fXKvum45",
        "outputId": "4de91b83-12ac-48d3-f6b1-84f280421d11"
      },
      "execution_count": null,
      "outputs": [
        {
          "output_type": "execute_result",
          "data": {
            "text/plain": [
              "<seaborn.axisgrid.FacetGrid at 0x78e6d197c6a0>"
            ]
          },
          "metadata": {},
          "execution_count": 218
        },
        {
          "output_type": "display_data",
          "data": {
            "text/plain": [
              "<Figure size 511.111x500 with 1 Axes>"
            ],
            "image/png": "[encoded data removed]"
          },
          "metadata": {}
        }
      ]
    },
    {
      "cell_type": "code",
      "source": [
        " df_bmw2['color'].fillna('Desconocido', inplace=True)"
      ],
      "metadata": {
        "id": "Ql4Jh-vCvg5v"
      },
      "execution_count": null,
      "outputs": []
    },
    {
      "cell_type": "code",
      "source": [
        "#Verificamos que el precio sí depende del tipo de coche\n",
        "df_bmw2['tipo_coche_lleno']= df_bmw2['tipo_coche'].fillna('Desconocido')\n",
        "\n",
        "# Crear un gráfico de barras\n",
        "sns.histplot(data=df_bmw2, x='precio', hue='tipo_coche_lleno',  bins=30, multiple = \"stack\")\n",
        "sns.catplot(x = \"tipo_coche_lleno\", y=\"precio\", data= df_bmw2)\n",
        "plt.xlabel('Precio')\n",
        "plt.ylabel('Frecuencia')\n",
        "plt.title('Gráfico de Barras con Variable Categórica')\n",
        "plt.show()\n",
        "\n",
        "del df_bmw2['tipo_coche_lleno']"
      ],
      "metadata": {
        "colab": {
          "base_uri": "https://localhost:8080/",
          "height": 961
        },
        "id": "qTvlBZrbenhg",
        "outputId": "7d7c28f2-e28f-4f6d-cba0-e7650a587c89"
      },
      "execution_count": null,
      "outputs": [
        {
          "output_type": "display_data",
          "data": {
            "text/plain": [
              "<Figure size 640x480 with 1 Axes>"
            ],
            "image/png": "[encoded data removed]"
          },
          "metadata": {}
        },
        {
          "output_type": "display_data",
          "data": {
            "text/plain": [
              "<Figure size 511.111x500 with 1 Axes>"
            ],
            "image/png": "[encoded data removed]"
          },
          "metadata": {}
        }
      ]
    },
    {
      "cell_type": "code",
      "source": [
        "#Vamos a ver cuantos registros tienen más de 2, 3 o 4 campos a null, si son 3 o 4 los eliminamos"
      ],
      "metadata": {
        "id": "T3viix_2kOTm"
      },
      "execution_count": null,
      "outputs": []
    },
    {
      "cell_type": "code",
      "source": [
        "columnas=df_bmw2.columns.tolist()\n",
        "columnas_nulas=[]\n",
        "for columna in columnas:\n",
        "  if df_bmw2[columna].isnull().sum() > 0:\n",
        "    columnas_nulas.append(columna)\n",
        "    print(df_bmw2[columna].unique())\n",
        "columnas_nulas"
      ],
      "metadata": {
        "colab": {
          "base_uri": "https://localhost:8080/"
        },
        "id": "c4xa0IjVwvMY",
        "outputId": "7d84342a-551f-40e9-cff9-cc2c836b0637"
      },
      "execution_count": null,
      "outputs": [
        {
          "output_type": "stream",
          "name": "stdout",
          "text": [
            "[nan 'convertible' 'coupe' 'estate' 'hatchback' 'sedan' 'subcompact' 'suv'\n",
            " 'van']\n",
            "[True False nan]\n",
            "[nan False True]\n",
            "[nan True False]\n",
            "[nan True False]\n"
          ]
        },
        {
          "output_type": "execute_result",
          "data": {
            "text/plain": [
              "['tipo_coche',\n",
              " 'aire_acondicionado',\n",
              " 'asientos_traseros_plegables',\n",
              " 'bluetooth',\n",
              " 'alerta_lim_velocidad']"
            ]
          },
          "metadata": {},
          "execution_count": 225
        }
      ]
    },
    {
      "cell_type": "code",
      "source": [
        "#empezamos por 5\n",
        "df_bmw2[df_bmw2['tipo_coche'].isnull() & df_bmw2['aire_acondicionado'].isnull() & df_bmw2['asientos_traseros_plegables'].isnull() & df_bmw2['alerta_lim_velocidad'].isnull() & df_bmw2['bluetooth'].isnull()]"
      ],
      "metadata": {
        "colab": {
          "base_uri": "https://localhost:8080/",
          "height": 53
        },
        "id": "tYrpzJq3ksUq",
        "outputId": "eec4bd92-945d-4691-88d8-8f5008be6d79"
      },
      "execution_count": null,
      "outputs": [
        {
          "output_type": "execute_result",
          "data": {
            "text/plain": [
              "Empty DataFrame\n",
              "Columns: [modelo, km, potencia, tipo_gasolina, color, tipo_coche, volante_regulable, aire_acondicionado, camara_trasera, asientos_traseros_plegables, elevalunas_electrico, bluetooth, gps, alerta_lim_velocidad, precio, fecha_venta, log_precio]\n",
              "Index: []"
            ],
            "text/html": [
              "\n",
              "  <div id=\"df-5847906c-8771-4ed4-880c-07a9ca78e995\" class=\"colab-df-container\">\n",
              "    <div>\n",
              "<style scoped>\n",
              "    .dataframe tbody tr th:only-of-type {\n",
              "        vertical-align: middle;\n",
              "    }\n",
              "\n",
              "    .dataframe tbody tr th {\n",
              "        vertical-align: top;\n",
              "    }\n",
              "\n",
              "    .dataframe thead th {\n",
              "        text-align: right;\n",
              "    }\n",
              "</style>\n",
              "<table border=\"1\" class=\"dataframe\">\n",
              "  <thead>\n",
              "    <tr style=\"text-align: right;\">\n",
              "      <th></th>\n",
              "      <th>modelo</th>\n",
              "      <th>km</th>\n",
              "      <th>potencia</th>\n",
              "      <th>tipo_gasolina</th>\n",
              "      <th>color</th>\n",
              "      <th>tipo_coche</th>\n",
              "      <th>volante_regulable</th>\n",
              "      <th>aire_acondicionado</th>\n",
              "      <th>camara_trasera</th>\n",
              "      <th>asientos_traseros_plegables</th>\n",
              "      <th>elevalunas_electrico</th>\n",
              "      <th>bluetooth</th>\n",
              "      <th>gps</th>\n",
              "      <th>alerta_lim_velocidad</th>\n",
              "      <th>precio</th>\n",
              "      <th>fecha_venta</th>\n",
              "      <th>log_precio</th>\n",
              "    </tr>\n",
              "  </thead>\n",
              "  <tbody>\n",
              "  </tbody>\n",
              "</table>\n",
              "</div>\n",
              "    <div class=\"colab-df-buttons\">\n",
              "\n",
              "  <div class=\"colab-df-container\">\n",
              "    <button class=\"colab-df-convert\" onclick=\"convertToInteractive('df-5847906c-8771-4ed4-880c-07a9ca78e995')\"\n",
              "            title=\"Convert this dataframe to an interactive table.\"\n",
              "            style=\"display:none;\">\n",
              "\n",
              "  <svg xmlns=\"http://www.w3.org/2000/svg\" height=\"24px\" viewBox=\"0 -960 960 960\">\n",
              "    <path d=\"M120-120v-720h720v720H120Zm60-500h600v-160H180v160Zm220 220h160v-160H400v160Zm0 220h160v-160H400v160ZM180-400h160v-160H180v160Zm440 0h160v-160H620v160ZM180-180h160v-160H180v160Zm440 0h160v-160H620v160Z\"/>\n",
              "  </svg>\n",
              "    </button>\n",
              "\n",
              "  <style>\n",
              "    .colab-df-container {\n",
              "      display:flex;\n",
              "      gap: 12px;\n",
              "    }\n",
              "\n",
              "    .colab-df-convert {\n",
              "      background-color: #E8F0FE;\n",
              "      border: none;\n",
              "      border-radius: 50%;\n",
              "      cursor: pointer;\n",
              "      display: none;\n",
              "      fill: #1967D2;\n",
              "      height: 32px;\n",
              "      padding: 0 0 0 0;\n",
              "      width: 32px;\n",
              "    }\n",
              "\n",
              "    .colab-df-convert:hover {\n",
              "      background-color: #E2EBFA;\n",
              "      box-shadow: 0px 1px 2px rgba(60, 64, 67, 0.3), 0px 1px 3px 1px rgba(60, 64, 67, 0.15);\n",
              "      fill: #174EA6;\n",
              "    }\n",
              "\n",
              "    .colab-df-buttons div {\n",
              "      margin-bottom: 4px;\n",
              "    }\n",
              "\n",
              "    [theme=dark] .colab-df-convert {\n",
              "      background-color: #3B4455;\n",
              "      fill: #D2E3FC;\n",
              "    }\n",
              "\n",
              "    [theme=dark] .colab-df-convert:hover {\n",
              "      background-color: #434B5C;\n",
              "      box-shadow: 0px 1px 3px 1px rgba(0, 0, 0, 0.15);\n",
              "      filter: drop-shadow(0px 1px 2px rgba(0, 0, 0, 0.3));\n",
              "      fill: #FFFFFF;\n",
              "    }\n",
              "  </style>\n",
              "\n",
              "    <script>\n",
              "      const buttonEl =\n",
              "        document.querySelector('#df-5847906c-8771-4ed4-880c-07a9ca78e995 button.colab-df-convert');\n",
              "      buttonEl.style.display =\n",
              "        google.colab.kernel.accessAllowed ? 'block' : 'none';\n",
              "\n",
              "      async function convertToInteractive(key) {\n",
              "        const element = document.querySelector('#df-5847906c-8771-4ed4-880c-07a9ca78e995');\n",
              "        const dataTable =\n",
              "          await google.colab.kernel.invokeFunction('convertToInteractive',\n",
              "                                                    [key], {});\n",
              "        if (!dataTable) return;\n",
              "\n",
              "        const docLinkHtml = 'Like what you see? Visit the ' +\n",
              "          '<a target=\"_blank\" href=https://colab.research.google.com/notebooks/data_table.ipynb>data table notebook</a>'\n",
              "          + ' to learn more about interactive tables.';\n",
              "        element.innerHTML = '';\n",
              "        dataTable['output_type'] = 'display_data';\n",
              "        await google.colab.output.renderOutput(dataTable, element);\n",
              "        const docLink = document.createElement('div');\n",
              "        docLink.innerHTML = docLinkHtml;\n",
              "        element.appendChild(docLink);\n",
              "      }\n",
              "    </script>\n",
              "  </div>\n",
              "\n",
              "    </div>\n",
              "  </div>\n"
            ]
          },
          "metadata": {},
          "execution_count": 230
        }
      ]
    },
    {
      "cell_type": "code",
      "source": [
        "len(df_bmw2)"
      ],
      "metadata": {
        "colab": {
          "base_uri": "https://localhost:8080/"
        },
        "id": "G4wfznHR2m46",
        "outputId": "daab3733-d4f0-4d98-a1fb-6274bb760b8f"
      },
      "execution_count": null,
      "outputs": [
        {
          "output_type": "execute_result",
          "data": {
            "text/plain": [
              "4811"
            ]
          },
          "metadata": {},
          "execution_count": 253
        }
      ]
    },
    {
      "cell_type": "code",
      "source": [
        "#Borramos combinatoria de columnas de 4 valores nulos\n",
        "from itertools import combinations\n",
        "combinaciones = list(combinations(columnas_nulas, 4))\n",
        "for combinacion in combinaciones:\n",
        "    indices_eliminar=df_bmw2[df_bmw2[combinacion[0]].isnull() &  df_bmw2[combinacion[1]].isnull() &  df_bmw2[combinacion[2]].isnull() &  df_bmw2[combinacion[3]].isnull()].index\n",
        "    df_bmw2.drop(indices_eliminar,inplace=True)"
      ],
      "metadata": {
        "id": "RkWtjXDKwe4q"
      },
      "execution_count": null,
      "outputs": []
    },
    {
      "cell_type": "code",
      "source": [
        "len(df_bmw2)"
      ],
      "metadata": {
        "colab": {
          "base_uri": "https://localhost:8080/"
        },
        "id": "jGnddgmr2sBv",
        "outputId": "531e4da4-e86e-4c7d-85a3-daf6acbc44b2"
      },
      "execution_count": null,
      "outputs": [
        {
          "output_type": "execute_result",
          "data": {
            "text/plain": [
              "4764"
            ]
          },
          "metadata": {},
          "execution_count": 255
        }
      ]
    },
    {
      "cell_type": "code",
      "source": [
        "#Borramos combinatoria de columnas de 3 valores nulos\n",
        "from itertools import combinations\n",
        "combinaciones = list(combinations(columnas_nulas, 3))\n",
        "for combinacion in combinaciones:\n",
        "    indices_eliminar=df_bmw2[df_bmw2[combinacion[0]].isnull() &  df_bmw2[combinacion[1]].isnull() &  df_bmw2[combinacion[2]].isnull()].index\n",
        "    df_bmw2.drop(indices_eliminar,inplace=True)"
      ],
      "metadata": {
        "id": "BPwbfA252uUE"
      },
      "execution_count": null,
      "outputs": []
    },
    {
      "cell_type": "code",
      "source": [
        "len(df_bmw2)"
      ],
      "metadata": {
        "colab": {
          "base_uri": "https://localhost:8080/"
        },
        "id": "S2Zw7gSf3EQ0",
        "outputId": "ab321ab6-f6a4-4c00-e373-66677d226a20"
      },
      "execution_count": null,
      "outputs": [
        {
          "output_type": "execute_result",
          "data": {
            "text/plain": [
              "4329"
            ]
          },
          "metadata": {},
          "execution_count": 260
        }
      ]
    },
    {
      "cell_type": "code",
      "source": [
        "#volvemos a hacer recuento\n",
        "df_bmw2.isnull().sum()"
      ],
      "metadata": {
        "colab": {
          "base_uri": "https://localhost:8080/"
        },
        "id": "3olX3f_OnLKG",
        "outputId": "c796162d-debc-47fb-fdc2-d18788dd1b3a"
      },
      "execution_count": null,
      "outputs": [
        {
          "output_type": "execute_result",
          "data": {
            "text/plain": [
              "modelo                            0\n",
              "km                                0\n",
              "potencia                          0\n",
              "tipo_gasolina                     0\n",
              "color                             0\n",
              "tipo_coche                     1086\n",
              "volante_regulable                 0\n",
              "aire_acondicionado              288\n",
              "camara_trasera                    0\n",
              "asientos_traseros_plegables    2916\n",
              "elevalunas_electrico              0\n",
              "bluetooth                       482\n",
              "gps                               0\n",
              "alerta_lim_velocidad            482\n",
              "precio                            0\n",
              "fecha_venta                       0\n",
              "log_precio                        0\n",
              "dtype: int64"
            ]
          },
          "metadata": {},
          "execution_count": 261
        }
      ]
    },
    {
      "cell_type": "code",
      "source": [
        "#volvemos a hacer el histograma\n",
        "df_bmw2['tipo_coche_lleno']= df_bmw2['tipo_coche'].fillna('Desconocido')\n",
        "\n",
        "# Crear un gráfico de barras\n",
        "sns.histplot(data=df_bmw2, x='precio', hue='tipo_coche_lleno',  bins=30, multiple = \"stack\")\n",
        "plt.xlabel('Precio')\n",
        "plt.ylabel('Frecuencia')\n",
        "plt.title('Gráfico de Barras con Variable Categórica')\n",
        "plt.show()\n",
        "\n",
        "del df_bmw2['tipo_coche_lleno']"
      ],
      "metadata": {
        "colab": {
          "base_uri": "https://localhost:8080/",
          "height": 472
        },
        "id": "ujLfHfVknYSN",
        "outputId": "243f1ada-1e03-4d2e-c1cc-2c4e754d80f8"
      },
      "execution_count": null,
      "outputs": [
        {
          "output_type": "display_data",
          "data": {
            "text/plain": [
              "<Figure size 640x480 with 1 Axes>"
            ],
            "image/png": "[encoded data removed]"
          },
          "metadata": {}
        }
      ]
    },
    {
      "cell_type": "code",
      "source": [
        "df_bmw2['tipo_coche'].fillna('Desconocido', inplace=True)"
      ],
      "metadata": {
        "id": "nNYtGuHVn941"
      },
      "execution_count": null,
      "outputs": []
    },
    {
      "cell_type": "code",
      "source": [
        "df_bmw2['aire_acondicionado'].fillna('Desconocido', inplace=True)"
      ],
      "metadata": {
        "id": "BgEDe4JwoGDH"
      },
      "execution_count": null,
      "outputs": []
    },
    {
      "cell_type": "code",
      "source": [
        "df_bmw2['asientos_traseros_plegables'].fillna('Desconocido', inplace=True)"
      ],
      "metadata": {
        "id": "SqzzD2JooJgu"
      },
      "execution_count": null,
      "outputs": []
    },
    {
      "cell_type": "code",
      "source": [
        "df_bmw2['bluetooth'].fillna('Desconocido', inplace=True)"
      ],
      "metadata": {
        "id": "pHGUIqL9oLDV"
      },
      "execution_count": null,
      "outputs": []
    },
    {
      "cell_type": "code",
      "source": [
        "df_bmw2['alerta_lim_velocidad'].fillna('Desconocido', inplace=True)"
      ],
      "metadata": {
        "id": "W2K8VOSeoP7V"
      },
      "execution_count": null,
      "outputs": []
    },
    {
      "cell_type": "code",
      "source": [
        "#volvemos a hacer recuento\n",
        "df_bmw2.isnull().sum()"
      ],
      "metadata": {
        "colab": {
          "base_uri": "https://localhost:8080/"
        },
        "id": "ZA8o133eoS-K",
        "outputId": "e1d27f73-5f20-4016-fb31-4fed1b314d75"
      },
      "execution_count": null,
      "outputs": [
        {
          "output_type": "execute_result",
          "data": {
            "text/plain": [
              "modelo                         0\n",
              "km                             0\n",
              "potencia                       0\n",
              "tipo_gasolina                  0\n",
              "color                          0\n",
              "tipo_coche                     0\n",
              "volante_regulable              0\n",
              "aire_acondicionado             0\n",
              "camara_trasera                 0\n",
              "asientos_traseros_plegables    0\n",
              "elevalunas_electrico           0\n",
              "bluetooth                      0\n",
              "gps                            0\n",
              "alerta_lim_velocidad           0\n",
              "precio                         0\n",
              "fecha_venta                    0\n",
              "log_precio                     0\n",
              "dtype: int64"
            ]
          },
          "metadata": {},
          "execution_count": 269
        }
      ]
    },
    {
      "cell_type": "code",
      "source": [
        "df_bmw2.head()"
      ],
      "metadata": {
        "colab": {
          "base_uri": "https://localhost:8080/",
          "height": 206
        },
        "id": "gwmOEjpQoUXP",
        "outputId": "4cb2ac34-869e-495f-a3fd-f5ec1c52a97a"
      },
      "execution_count": null,
      "outputs": [
        {
          "output_type": "execute_result",
          "data": {
            "text/plain": [
              "  modelo        km  potencia tipo_gasolina   color   tipo_coche  \\\n",
              "1     M4   13929.0     317.0        petrol    grey  convertible   \n",
              "2    320  183297.0     120.0        diesel   white  Desconocido   \n",
              "3    420  128035.0     135.0        diesel     red  convertible   \n",
              "4    425   97097.0     160.0        diesel  silver  Desconocido   \n",
              "5    335  152352.0     225.0        petrol   black  Desconocido   \n",
              "\n",
              "  volante_regulable aire_acondicionado camara_trasera  \\\n",
              "1              True               True          False   \n",
              "2             False              False          False   \n",
              "3              True               True          False   \n",
              "4              True               True          False   \n",
              "5              True               True          False   \n",
              "\n",
              "  asientos_traseros_plegables elevalunas_electrico bluetooth   gps  \\\n",
              "1                 Desconocido                False      True  True   \n",
              "2                 Desconocido                 True     False  True   \n",
              "3                 Desconocido                 True      True  True   \n",
              "4                       False                False      True  True   \n",
              "5                       False                 True      True  True   \n",
              "\n",
              "  alerta_lim_velocidad   precio fecha_venta  log_precio  \n",
              "1                 True  69700.0  2018-02-01    4.843233  \n",
              "2                False  10200.0  2018-02-01    4.008600  \n",
              "3          Desconocido  25100.0  2018-02-01    4.399674  \n",
              "4                 True  33400.0  2018-04-01    4.523746  \n",
              "5                 True  17100.0  2018-02-01    4.232996  "
            ],
            "text/html": [
              "\n",
              "  <div id=\"df-6b1925a2-c705-4154-9e7b-0fd84c401448\" class=\"colab-df-container\">\n",
              "    <div>\n",
              "<style scoped>\n",
              "    .dataframe tbody tr th:only-of-type {\n",
              "        vertical-align: middle;\n",
              "    }\n",
              "\n",
              "    .dataframe tbody tr th {\n",
              "        vertical-align: top;\n",
              "    }\n",
              "\n",
              "    .dataframe thead th {\n",
              "        text-align: right;\n",
              "    }\n",
              "</style>\n",
              "<table border=\"1\" class=\"dataframe\">\n",
              "  <thead>\n",
              "    <tr style=\"text-align: right;\">\n",
              "      <th></th>\n",
              "      <th>modelo</th>\n",
              "      <th>km</th>\n",
              "      <th>potencia</th>\n",
              "      <th>tipo_gasolina</th>\n",
              "      <th>color</th>\n",
              "      <th>tipo_coche</th>\n",
              "      <th>volante_regulable</th>\n",
              "      <th>aire_acondicionado</th>\n",
              "      <th>camara_trasera</th>\n",
              "      <th>asientos_traseros_plegables</th>\n",
              "      <th>elevalunas_electrico</th>\n",
              "      <th>bluetooth</th>\n",
              "      <th>gps</th>\n",
              "      <th>alerta_lim_velocidad</th>\n",
              "      <th>precio</th>\n",
              "      <th>fecha_venta</th>\n",
              "      <th>log_precio</th>\n",
              "    </tr>\n",
              "  </thead>\n",
              "  <tbody>\n",
              "    <tr>\n",
              "      <th>1</th>\n",
              "      <td>M4</td>\n",
              "      <td>13929.0</td>\n",
              "      <td>317.0</td>\n",
              "      <td>petrol</td>\n",
              "      <td>grey</td>\n",
              "      <td>convertible</td>\n",
              "      <td>True</td>\n",
              "      <td>True</td>\n",
              "      <td>False</td>\n",
              "      <td>Desconocido</td>\n",
              "      <td>False</td>\n",
              "      <td>True</td>\n",
              "      <td>True</td>\n",
              "      <td>True</td>\n",
              "      <td>69700.0</td>\n",
              "      <td>2018-02-01</td>\n",
              "      <td>4.843233</td>\n",
              "    </tr>\n",
              "    <tr>\n",
              "      <th>2</th>\n",
              "      <td>320</td>\n",
              "      <td>183297.0</td>\n",
              "      <td>120.0</td>\n",
              "      <td>diesel</td>\n",
              "      <td>white</td>\n",
              "      <td>Desconocido</td>\n",
              "      <td>False</td>\n",
              "      <td>False</td>\n",
              "      <td>False</td>\n",
              "      <td>Desconocido</td>\n",
              "      <td>True</td>\n",
              "      <td>False</td>\n",
              "      <td>True</td>\n",
              "      <td>False</td>\n",
              "      <td>10200.0</td>\n",
              "      <td>2018-02-01</td>\n",
              "      <td>4.008600</td>\n",
              "    </tr>\n",
              "    <tr>\n",
              "      <th>3</th>\n",
              "      <td>420</td>\n",
              "      <td>128035.0</td>\n",
              "      <td>135.0</td>\n",
              "      <td>diesel</td>\n",
              "      <td>red</td>\n",
              "      <td>convertible</td>\n",
              "      <td>True</td>\n",
              "      <td>True</td>\n",
              "      <td>False</td>\n",
              "      <td>Desconocido</td>\n",
              "      <td>True</td>\n",
              "      <td>True</td>\n",
              "      <td>True</td>\n",
              "      <td>Desconocido</td>\n",
              "      <td>25100.0</td>\n",
              "      <td>2018-02-01</td>\n",
              "      <td>4.399674</td>\n",
              "    </tr>\n",
              "    <tr>\n",
              "      <th>4</th>\n",
              "      <td>425</td>\n",
              "      <td>97097.0</td>\n",
              "      <td>160.0</td>\n",
              "      <td>diesel</td>\n",
              "      <td>silver</td>\n",
              "      <td>Desconocido</td>\n",
              "      <td>True</td>\n",
              "      <td>True</td>\n",
              "      <td>False</td>\n",
              "      <td>False</td>\n",
              "      <td>False</td>\n",
              "      <td>True</td>\n",
              "      <td>True</td>\n",
              "      <td>True</td>\n",
              "      <td>33400.0</td>\n",
              "      <td>2018-04-01</td>\n",
              "      <td>4.523746</td>\n",
              "    </tr>\n",
              "    <tr>\n",
              "      <th>5</th>\n",
              "      <td>335</td>\n",
              "      <td>152352.0</td>\n",
              "      <td>225.0</td>\n",
              "      <td>petrol</td>\n",
              "      <td>black</td>\n",
              "      <td>Desconocido</td>\n",
              "      <td>True</td>\n",
              "      <td>True</td>\n",
              "      <td>False</td>\n",
              "      <td>False</td>\n",
              "      <td>True</td>\n",
              "      <td>True</td>\n",
              "      <td>True</td>\n",
              "      <td>True</td>\n",
              "      <td>17100.0</td>\n",
              "      <td>2018-02-01</td>\n",
              "      <td>4.232996</td>\n",
              "    </tr>\n",
              "  </tbody>\n",
              "</table>\n",
              "</div>\n",
              "    <div class=\"colab-df-buttons\">\n",
              "\n",
              "  <div class=\"colab-df-container\">\n",
              "    <button class=\"colab-df-convert\" onclick=\"convertToInteractive('df-6b1925a2-c705-4154-9e7b-0fd84c401448')\"\n",
              "            title=\"Convert this dataframe to an interactive table.\"\n",
              "            style=\"display:none;\">\n",
              "\n",
              "  <svg xmlns=\"http://www.w3.org/2000/svg\" height=\"24px\" viewBox=\"0 -960 960 960\">\n",
              "    <path d=\"M120-120v-720h720v720H120Zm60-500h600v-160H180v160Zm220 220h160v-160H400v160Zm0 220h160v-160H400v160ZM180-400h160v-160H180v160Zm440 0h160v-160H620v160ZM180-180h160v-160H180v160Zm440 0h160v-160H620v160Z\"/>\n",
              "  </svg>\n",
              "    </button>\n",
              "\n",
              "  <style>\n",
              "    .colab-df-container {\n",
              "      display:flex;\n",
              "      gap: 12px;\n",
              "    }\n",
              "\n",
              "    .colab-df-convert {\n",
              "      background-color: #E8F0FE;\n",
              "      border: none;\n",
              "      border-radius: 50%;\n",
              "      cursor: pointer;\n",
              "      display: none;\n",
              "      fill: #1967D2;\n",
              "      height: 32px;\n",
              "      padding: 0 0 0 0;\n",
              "      width: 32px;\n",
              "    }\n",
              "\n",
              "    .colab-df-convert:hover {\n",
              "      background-color: #E2EBFA;\n",
              "      box-shadow: 0px 1px 2px rgba(60, 64, 67, 0.3), 0px 1px 3px 1px rgba(60, 64, 67, 0.15);\n",
              "      fill: #174EA6;\n",
              "    }\n",
              "\n",
              "    .colab-df-buttons div {\n",
              "      margin-bottom: 4px;\n",
              "    }\n",
              "\n",
              "    [theme=dark] .colab-df-convert {\n",
              "      background-color: #3B4455;\n",
              "      fill: #D2E3FC;\n",
              "    }\n",
              "\n",
              "    [theme=dark] .colab-df-convert:hover {\n",
              "      background-color: #434B5C;\n",
              "      box-shadow: 0px 1px 3px 1px rgba(0, 0, 0, 0.15);\n",
              "      filter: drop-shadow(0px 1px 2px rgba(0, 0, 0, 0.3));\n",
              "      fill: #FFFFFF;\n",
              "    }\n",
              "  </style>\n",
              "\n",
              "    <script>\n",
              "      const buttonEl =\n",
              "        document.querySelector('#df-6b1925a2-c705-4154-9e7b-0fd84c401448 button.colab-df-convert');\n",
              "      buttonEl.style.display =\n",
              "        google.colab.kernel.accessAllowed ? 'block' : 'none';\n",
              "\n",
              "      async function convertToInteractive(key) {\n",
              "        const element = document.querySelector('#df-6b1925a2-c705-4154-9e7b-0fd84c401448');\n",
              "        const dataTable =\n",
              "          await google.colab.kernel.invokeFunction('convertToInteractive',\n",
              "                                                    [key], {});\n",
              "        if (!dataTable) return;\n",
              "\n",
              "        const docLinkHtml = 'Like what you see? Visit the ' +\n",
              "          '<a target=\"_blank\" href=https://colab.research.google.com/notebooks/data_table.ipynb>data table notebook</a>'\n",
              "          + ' to learn more about interactive tables.';\n",
              "        element.innerHTML = '';\n",
              "        dataTable['output_type'] = 'display_data';\n",
              "        await google.colab.output.renderOutput(dataTable, element);\n",
              "        const docLink = document.createElement('div');\n",
              "        docLink.innerHTML = docLinkHtml;\n",
              "        element.appendChild(docLink);\n",
              "      }\n",
              "    </script>\n",
              "  </div>\n",
              "\n",
              "\n",
              "<div id=\"df-5404bfb5-333c-4b4a-9b0e-07d1d836a50f\">\n",
              "  <button class=\"colab-df-quickchart\" onclick=\"quickchart('df-5404bfb5-333c-4b4a-9b0e-07d1d836a50f')\"\n",
              "            title=\"Suggest charts\"\n",
              "            style=\"display:none;\">\n",
              "\n",
              "<svg xmlns=\"http://www.w3.org/2000/svg\" height=\"24px\"viewBox=\"0 0 24 24\"\n",
              "     width=\"24px\">\n",
              "    <g>\n",
              "        <path d=\"M19 3H5c-1.1 0-2 .9-2 2v14c0 1.1.9 2 2 2h14c1.1 0 2-.9 2-2V5c0-1.1-.9-2-2-2zM9 17H7v-7h2v7zm4 0h-2V7h2v10zm4 0h-2v-4h2v4z\"/>\n",
              "    </g>\n",
              "</svg>\n",
              "  </button>\n",
              "\n",
              "<style>\n",
              "  .colab-df-quickchart {\n",
              "      --bg-color: #E8F0FE;\n",
              "      --fill-color: #1967D2;\n",
              "      --hover-bg-color: #E2EBFA;\n",
              "      --hover-fill-color: #174EA6;\n",
              "      --disabled-fill-color: #AAA;\n",
              "      --disabled-bg-color: #DDD;\n",
              "  }\n",
              "\n",
              "  [theme=dark] .colab-df-quickchart {\n",
              "      --bg-color: #3B4455;\n",
              "      --fill-color: #D2E3FC;\n",
              "      --hover-bg-color: #434B5C;\n",
              "      --hover-fill-color: #FFFFFF;\n",
              "      --disabled-bg-color: #3B4455;\n",
              "      --disabled-fill-color: #666;\n",
              "  }\n",
              "\n",
              "  .colab-df-quickchart {\n",
              "    background-color: var(--bg-color);\n",
              "    border: none;\n",
              "    border-radius: 50%;\n",
              "    cursor: pointer;\n",
              "    display: none;\n",
              "    fill: var(--fill-color);\n",
              "    height: 32px;\n",
              "    padding: 0;\n",
              "    width: 32px;\n",
              "  }\n",
              "\n",
              "  .colab-df-quickchart:hover {\n",
              "    background-color: var(--hover-bg-color);\n",
              "    box-shadow: 0 1px 2px rgba(60, 64, 67, 0.3), 0 1px 3px 1px rgba(60, 64, 67, 0.15);\n",
              "    fill: var(--button-hover-fill-color);\n",
              "  }\n",
              "\n",
              "  .colab-df-quickchart-complete:disabled,\n",
              "  .colab-df-quickchart-complete:disabled:hover {\n",
              "    background-color: var(--disabled-bg-color);\n",
              "    fill: var(--disabled-fill-color);\n",
              "    box-shadow: none;\n",
              "  }\n",
              "\n",
              "  .colab-df-spinner {\n",
              "    border: 2px solid var(--fill-color);\n",
              "    border-color: transparent;\n",
              "    border-bottom-color: var(--fill-color);\n",
              "    animation:\n",
              "      spin 1s steps(1) infinite;\n",
              "  }\n",
              "\n",
              "  @keyframes spin {\n",
              "    0% {\n",
              "      border-color: transparent;\n",
              "      border-bottom-color: var(--fill-color);\n",
              "      border-left-color: var(--fill-color);\n",
              "    }\n",
              "    20% {\n",
              "      border-color: transparent;\n",
              "      border-left-color: var(--fill-color);\n",
              "      border-top-color: var(--fill-color);\n",
              "    }\n",
              "    30% {\n",
              "      border-color: transparent;\n",
              "      border-left-color: var(--fill-color);\n",
              "      border-top-color: var(--fill-color);\n",
              "      border-right-color: var(--fill-color);\n",
              "    }\n",
              "    40% {\n",
              "      border-color: transparent;\n",
              "      border-right-color: var(--fill-color);\n",
              "      border-top-color: var(--fill-color);\n",
              "    }\n",
              "    60% {\n",
              "      border-color: transparent;\n",
              "      border-right-color: var(--fill-color);\n",
              "    }\n",
              "    80% {\n",
              "      border-color: transparent;\n",
              "      border-right-color: var(--fill-color);\n",
              "      border-bottom-color: var(--fill-color);\n",
              "    }\n",
              "    90% {\n",
              "      border-color: transparent;\n",
              "      border-bottom-color: var(--fill-color);\n",
              "    }\n",
              "  }\n",
              "</style>\n",
              "\n",
              "  <script>\n",
              "    async function quickchart(key) {\n",
              "      const quickchartButtonEl =\n",
              "        document.querySelector('#' + key + ' button');\n",
              "      quickchartButtonEl.disabled = true;  // To prevent multiple clicks.\n",
              "      quickchartButtonEl.classList.add('colab-df-spinner');\n",
              "      try {\n",
              "        const charts = await google.colab.kernel.invokeFunction(\n",
              "            'suggestCharts', [key], {});\n",
              "      } catch (error) {\n",
              "        console.error('Error during call to suggestCharts:', error);\n",
              "      }\n",
              "      quickchartButtonEl.classList.remove('colab-df-spinner');\n",
              "      quickchartButtonEl.classList.add('colab-df-quickchart-complete');\n",
              "    }\n",
              "    (() => {\n",
              "      let quickchartButtonEl =\n",
              "        document.querySelector('#df-5404bfb5-333c-4b4a-9b0e-07d1d836a50f button');\n",
              "      quickchartButtonEl.style.display =\n",
              "        google.colab.kernel.accessAllowed ? 'block' : 'none';\n",
              "    })();\n",
              "  </script>\n",
              "</div>\n",
              "    </div>\n",
              "  </div>\n"
            ]
          },
          "metadata": {},
          "execution_count": 270
        }
      ]
    }
  ]
}